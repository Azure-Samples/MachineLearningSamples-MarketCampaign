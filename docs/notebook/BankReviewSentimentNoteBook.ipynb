{
 "cells": [
  {
   "cell_type": "markdown",
   "metadata": {},
   "source": [
    "# Review Sentiment Classification Notebook\n",
    "\n",
    "\n",
    "## Summary\n",
    "Text Classification aims to assign a text instance into one or more class(es) in a predefined set of classes.\n",
    "\n",
    "## Description \n",
    "### Use Case Description\n",
    "A company, such as bank, wants to analyze customer feedback in order to provide additional insight to enhance market campaign prediction. The bank collects customers feedback from public website. The task is to build a pipeline that automatically analyzes customer feedback messages, to provide the overall sentiment for the bank. The aim is to help the bank who wants to more accurately predict the success of telemarketing calls for selling bank long-term deposits gain extra features from social media.\n",
    "\n",
    "#### Use Case Data\n",
    "The data used in this use case is [BankReview dataset](https://www.creditkarma.com/reviews/banking/single/id/Simple#single-review-listingPaper), a publicly available data set collected from credit karma website. The data comprises approximately 120 customers feedback. \n",
    "\n",
    "We shared the review data as a Blob in a public Windows Azure Storage account. You can use this shared data to follow the steps in this template, or you can collect more feedbacks from credit karma website.\n",
    "\n",
    "Each instance in the data set has 3 fields:\n",
    "\n",
    "* customerid - the customer who posted the feedback \n",
    "* sentiment - the polarity of the feedback (1 = strongly negative, 2 = negative, 3 = neutral, 4 = positive, 5 = strongly positive)\n",
    "* review - the text of the feedback "
   ]
  },
  {
   "cell_type": "markdown",
   "metadata": {},
   "source": [
    "### Step 1 - Data Preparation"
   ]
  },
  {
   "cell_type": "markdown",
   "metadata": {},
   "source": [
    "### Load data from Local\n",
    "Start by loading data from local to IPython Notebook using Pandas. Then, use some simple visualization techniques to peak at the data."
   ]
  },
  {
   "cell_type": "code",
   "execution_count": 1,
   "metadata": {
    "collapsed": false
   },
   "outputs": [
    {
     "data": {
      "text/html": [
       "<div>\n",
       "<table border=\"1\" class=\"dataframe\">\n",
       "  <thead>\n",
       "    <tr style=\"text-align: right;\">\n",
       "      <th></th>\n",
       "      <th>﻿sentiment</th>\n",
       "      <th>review</th>\n",
       "    </tr>\n",
       "  </thead>\n",
       "  <tbody>\n",
       "    <tr>\n",
       "      <th>0</th>\n",
       "      <td>4</td>\n",
       "      <td>I absolutely love my bank. There's a reason th...</td>\n",
       "    </tr>\n",
       "    <tr>\n",
       "      <th>1</th>\n",
       "      <td>1</td>\n",
       "      <td>International transaction fees for items bough...</td>\n",
       "    </tr>\n",
       "    <tr>\n",
       "      <th>2</th>\n",
       "      <td>5</td>\n",
       "      <td>This bank bends over backwards for its custome...</td>\n",
       "    </tr>\n",
       "    <tr>\n",
       "      <th>3</th>\n",
       "      <td>5</td>\n",
       "      <td>I have used this bank for going on two years a...</td>\n",
       "    </tr>\n",
       "    <tr>\n",
       "      <th>4</th>\n",
       "      <td>5</td>\n",
       "      <td>This card makes it so easy to save.... for rai...</td>\n",
       "    </tr>\n",
       "  </tbody>\n",
       "</table>\n",
       "</div>"
      ],
      "text/plain": [
       "   ﻿sentiment                                             review\n",
       "0           4  I absolutely love my bank. There's a reason th...\n",
       "1           1  International transaction fees for items bough...\n",
       "2           5  This bank bends over backwards for its custome...\n",
       "3           5  I have used this bank for going on two years a...\n",
       "4           5  This card makes it so easy to save.... for rai..."
      ]
     },
     "execution_count": 1,
     "metadata": {},
     "output_type": "execute_result"
    }
   ],
   "source": [
    "# Load the bank review dataset\n",
    "import csv\n",
    "import pandas as pd\n",
    "\n",
    "text_df = pd.read_csv('BankReviewTrainingSample.csv')\n",
    "text_df.head()"
   ]
  },
  {
   "cell_type": "code",
   "execution_count": 2,
   "metadata": {
    "collapsed": true
   },
   "outputs": [],
   "source": [
    "text_df.columns = ['label_column', 'text_column'] #rename column names\n",
    "label_column = text_df[\"label_column\"]\n",
    "text_df[\"label_column\"] = label_column.map(lambda label: 1 if label == 4 or label == 5 else 0) #replace label 4 to label 1\n",
    "text_df = text_df.dropna()"
   ]
  },
  {
   "cell_type": "code",
   "execution_count": 3,
   "metadata": {
    "collapsed": false
   },
   "outputs": [
    {
     "data": {
      "text/html": [
       "<div>\n",
       "<table border=\"1\" class=\"dataframe\">\n",
       "  <thead>\n",
       "    <tr style=\"text-align: right;\">\n",
       "      <th></th>\n",
       "      <th>label_column</th>\n",
       "      <th>text_column</th>\n",
       "    </tr>\n",
       "  </thead>\n",
       "  <tbody>\n",
       "    <tr>\n",
       "      <th>0</th>\n",
       "      <td>1</td>\n",
       "      <td>I absolutely love my bank. There's a reason th...</td>\n",
       "    </tr>\n",
       "    <tr>\n",
       "      <th>1</th>\n",
       "      <td>0</td>\n",
       "      <td>International transaction fees for items bough...</td>\n",
       "    </tr>\n",
       "    <tr>\n",
       "      <th>2</th>\n",
       "      <td>1</td>\n",
       "      <td>This bank bends over backwards for its custome...</td>\n",
       "    </tr>\n",
       "    <tr>\n",
       "      <th>3</th>\n",
       "      <td>1</td>\n",
       "      <td>I have used this bank for going on two years a...</td>\n",
       "    </tr>\n",
       "    <tr>\n",
       "      <th>4</th>\n",
       "      <td>1</td>\n",
       "      <td>This card makes it so easy to save.... for rai...</td>\n",
       "    </tr>\n",
       "  </tbody>\n",
       "</table>\n",
       "</div>"
      ],
      "text/plain": [
       "   label_column                                        text_column\n",
       "0             1  I absolutely love my bank. There's a reason th...\n",
       "1             0  International transaction fees for items bough...\n",
       "2             1  This bank bends over backwards for its custome...\n",
       "3             1  I have used this bank for going on two years a...\n",
       "4             1  This card makes it so easy to save.... for rai..."
      ]
     },
     "execution_count": 3,
     "metadata": {},
     "output_type": "execute_result"
    }
   ],
   "source": [
    "text_df.head()"
   ]
  },
  {
   "cell_type": "code",
   "execution_count": 4,
   "metadata": {
    "collapsed": false,
    "scrolled": true
   },
   "outputs": [
    {
     "data": {
      "text/plain": [
       "<matplotlib.axes._subplots.AxesSubplot at 0x25073b7cc50>"
      ]
     },
     "execution_count": 4,
     "metadata": {},
     "output_type": "execute_result"
    },
    {
     "data": {
      "image/png": "[encoded data removed]",
      "text/plain": [
       "<matplotlib.figure.Figure at 0x250731be550>"
      ]
     },
     "metadata": {},
     "output_type": "display_data"
    }
   ],
   "source": [
    "import matplotlib \n",
    "\n",
    "%matplotlib inline\n",
    "text_df[\"label_column\"].hist()"
   ]
  },
  {
   "cell_type": "markdown",
   "metadata": {},
   "source": [
    "### Step 2 - Text Preprocessing\n",
    "\n",
    "Unstructured text such as tweets, product reviews, or search queries usually requires some preprocessing before it can be analyzed. This experiment includes a number of optional text preprocessing and text cleaning steps, such as replacing special characters and punctuation marks with spaces, normalizing case, removing duplicate characters, removing user-defined or built-in stop-words, and word stemming.\n",
    "\n",
    "In this step, the user can visualize the most frequent words for each class. In the sentiment analysis use case, the first word cloud, shown below, represents the top positive sentiment-bearing words while the second word cloud shows the most frequent negative sentiment-bearing words in the input training corpus. This visualization helps us validate the quality of the training data before start to build the classification model in the next step."
   ]
  },
  {
   "cell_type": "code",
   "execution_count": 5,
   "metadata": {
    "collapsed": true,
    "scrolled": true
   },
   "outputs": [],
   "source": [
    "import string\n",
    "stop_words_df = pd.read_csv('StopWords.csv')\n",
    "stop_words = set(stop_words_df[\"Col1\"].tolist())\n",
    "for item in string.ascii_lowercase: #load stop words\n",
    "    if item != \"i\":\n",
    "        stop_words.add(item)"
   ]
  },
  {
   "cell_type": "code",
   "execution_count": 6,
   "metadata": {
    "collapsed": true
   },
   "outputs": [],
   "source": [
    "from nltk.tokenize import RegexpTokenizer\n",
    "text_column = []\n",
    "for line in text_df.text_column:\n",
    "    value = \" \".join(item.lower()\n",
    "                     for item in RegexpTokenizer(r'\\w+').tokenize(line)\n",
    "                     if item.lower() not in stop_words)\n",
    "    text_column.append(value)\n",
    "text_df.text_column = text_column"
   ]
  },
  {
   "cell_type": "code",
   "execution_count": 7,
   "metadata": {
    "collapsed": false
   },
   "outputs": [
    {
     "data": {
      "text/html": [
       "<div>\n",
       "<table border=\"1\" class=\"dataframe\">\n",
       "  <thead>\n",
       "    <tr style=\"text-align: right;\">\n",
       "      <th></th>\n",
       "      <th>label_column</th>\n",
       "      <th>text_column</th>\n",
       "    </tr>\n",
       "  </thead>\n",
       "  <tbody>\n",
       "    <tr>\n",
       "      <th>0</th>\n",
       "      <td>1</td>\n",
       "      <td>i absolutely love my bank reason bank customer...</td>\n",
       "    </tr>\n",
       "    <tr>\n",
       "      <th>1</th>\n",
       "      <td>0</td>\n",
       "      <td>international transaction fees for items bough...</td>\n",
       "    </tr>\n",
       "    <tr>\n",
       "      <th>2</th>\n",
       "      <td>1</td>\n",
       "      <td>bank bends backwards for its customers i ve on...</td>\n",
       "    </tr>\n",
       "    <tr>\n",
       "      <th>3</th>\n",
       "      <td>1</td>\n",
       "      <td>i used bank for going on years it best bank ap...</td>\n",
       "    </tr>\n",
       "    <tr>\n",
       "      <th>4</th>\n",
       "      <td>1</td>\n",
       "      <td>card makes it so easy to save for rainy days f...</td>\n",
       "    </tr>\n",
       "  </tbody>\n",
       "</table>\n",
       "</div>"
      ],
      "text/plain": [
       "   label_column                                        text_column\n",
       "0             1  i absolutely love my bank reason bank customer...\n",
       "1             0  international transaction fees for items bough...\n",
       "2             1  bank bends backwards for its customers i ve on...\n",
       "3             1  i used bank for going on years it best bank ap...\n",
       "4             1  card makes it so easy to save for rainy days f..."
      ]
     },
     "execution_count": 7,
     "metadata": {},
     "output_type": "execute_result"
    }
   ],
   "source": [
    "text_df.head()"
   ]
  },
  {
   "cell_type": "markdown",
   "metadata": {},
   "source": [
    "### Visualize the most frequent 50 words in both positive and negative classes\n",
    "Use wordcloud package to visualize the most frequent words in both positive and negative class as a word cloud. These most frequent words will give us initial understanding of the text."
   ]
  },
  {
   "cell_type": "code",
   "execution_count": 62,
   "metadata": {
    "collapsed": false
   },
   "outputs": [
    {
     "name": "stdout",
     "output_type": "stream",
     "text": [
      "Missing wordcloud module\n"
     ]
    }
   ],
   "source": [
    "from IPython.display import Image\n",
    "positive_text = \" \".join(text_df[text_df.label_column == 1].text_column.tolist())\n",
    "negative_text = \" \".join(text_df[text_df.label_column == 0].text_column.tolist())\n",
    "\n",
    "# Generate word \n",
    "\n",
    "try:\n",
    "    from wordcloud import WordCloud\n",
    "except ImportError:\n",
    "    print (\"Missing wordcloud module\")\n",
    "else:\n",
    "    import matplotlib.pyplot as plt\n",
    "    try:\n",
    "        positive_word_cloud = WordCloud(max_words=50, margin=10, random_state=1).generate(positive_text)\n",
    "        default_colors = positive_word_cloud.to_array()\n",
    "        plt.title(\"Top 50 words in positive class\")\n",
    "        plt.imshow(default_colors)\n",
    "        plt.axis(\"off\")\n",
    "        image = plt.show()\n",
    "        negative_word_cloud = WordCloud(max_words=50, margin=10, random_state=1).generate(negative_text)\n",
    "        default_colors = negative_word_cloud.to_array()\n",
    "        plt.title(\"Top 50 words in negative class\")\n",
    "        plt.imshow(default_colors)\n",
    "        plt.axis(\"off\")\n",
    "        image = plt.show()\n",
    "    except IOError as error:\n",
    "        print (\"Missing WordCloud data\")"
   ]
  },
  {
   "cell_type": "markdown",
   "metadata": {},
   "source": [
    "### Step 3 - Feature Engineering \n",
    "\n",
    "The aim of this step is to convert variable-length unstructured text data into equal-length numeric feature vectors. The user has the option to try two types of text representations: N-Gram TF and Unigrams TF-IDF. Here, we chose the unigrams TF-IDF feature extraction method.\n",
    "\n",
    "Then, we performed feature selection to reduce the size of the data. We used the Chi-squared score function to rank the hashing features in descending order, and returned the top 30 most relevant features with respect to the sentiment label, out of all the extracted unigrams."
   ]
  },
  {
   "cell_type": "markdown",
   "metadata": {},
   "source": [
    "### Stem and Tokenization"
   ]
  },
  {
   "cell_type": "code",
   "execution_count": 11,
   "metadata": {
    "collapsed": true
   },
   "outputs": [],
   "source": [
    "from sklearn.feature_extraction.text import TfidfVectorizer\n",
    "from nltk.stem.porter import PorterStemmer"
   ]
  },
  {
   "cell_type": "markdown",
   "metadata": {},
   "source": [
    "Initialize stemmer to remove morphological affixes from words, leaving only the word stem, and convert the text_column in data frame as a list for future process."
   ]
  },
  {
   "cell_type": "code",
   "execution_count": 12,
   "metadata": {
    "collapsed": true
   },
   "outputs": [],
   "source": [
    "stemmer = PorterStemmer()\n",
    "text_list = text_df[\"text_column\"].tolist()"
   ]
  },
  {
   "cell_type": "markdown",
   "metadata": {},
   "source": [
    "Tokenize the sentences in text_list and remove morphological affixes from words."
   ]
  },
  {
   "cell_type": "code",
   "execution_count": 13,
   "metadata": {
    "collapsed": true
   },
   "outputs": [],
   "source": [
    "def stem_tokens(tokens, stemmer_model):\n",
    "    '''\n",
    "    :param tokens: tokenized word list\n",
    "    :param stemmer: remove stemmer\n",
    "    :return:  tokenized and stemmed words\n",
    "    '''\n",
    "    return [stemmer_model.stem(original_word) for original_word in tokens]\n",
    "\n",
    "\n",
    "def tokenize(text):\n",
    "    '''\n",
    "    :param text: raw test\n",
    "    :return: tokenized and stemmed words\n",
    "    '''\n",
    "    tokens = text.strip().split(\" \")\n",
    "    return stem_tokens(tokens, stemmer)"
   ]
  },
  {
   "cell_type": "markdown",
   "metadata": {},
   "source": [
    "### Unigrams TF-IDF feature extraction\n",
    "\n",
    "#### Create the Word Dictionary\n",
    "First, extract the set of unigrams (words) that will be used to train the text model. In addition to the unigrams, the number of documents where each word appears in the text corpus is counted (DF). It is not necessary to create the dictionary on the same labeled data used to train the text model -- any large corpus that fairly represents the frequency of words in the target domain of classification can be used, even if it is not annotated with the target categories.\n",
    "\n",
    "#### TF-IDF Calculation\n",
    "When the metric word frequency of occurrence (TF) in a document is used as a feature value, a higher weight tends to be assigned to words that appear frequently in a corpus (such as stop-words). The inverse document frequency (IDF) is a better metric, because it assigns a lower weight to frequent words. You calculate IDF as the log of the ratio of the number of documents in the training corpus to the number of documents containing the given word. Combining these numbers in a metric (TF/IDF) places greater importance on words that are frequent in the document but rare in the corpus. This assumption is valid not only for unigrams but also for bigrams, trigrams, etc.\n",
    "\n",
    "This experiment converts unstructured text data into equal-length numeric feature vectors where each feature represents the TF-IDF of a unigram in a text instance."
   ]
  },
  {
   "cell_type": "markdown",
   "metadata": {},
   "source": [
    "Initialize the TfidfVectorizer to compute tf-idf for each word"
   ]
  },
  {
   "cell_type": "code",
   "execution_count": 14,
   "metadata": {
    "collapsed": false
   },
   "outputs": [
    {
     "name": "stdout",
     "output_type": "stream",
     "text": [
      "  (0, 67)\t0.227581612941\n",
      "  (0, 40)\t0.16996771502\n",
      "  (0, 27)\t0.194596902167\n",
      "  (0, 85)\t0.202485683627\n",
      "  (0, 4)\t0.232457541703\n",
      "  (0, 77)\t0.106567331634\n",
      "  (0, 52)\t0.266452574283\n",
      "  (0, 28)\t0.160383216913\n",
      "  (0, 1)\t0.198425214393\n",
      "  (0, 65)\t0.211429246413\n",
      "  (0, 10)\t0.153999605087\n",
      "  (0, 18)\t0.202485683627\n",
      "  (0, 19)\t0.16500416833\n",
      "  (0, 60)\t0.227581612941\n",
      "  (0, 46)\t0.160383216913\n",
      "  (0, 75)\t0.124843206538\n",
      "  (0, 26)\t0.242029788625\n",
      "  (0, 13)\t0.406986984004\n",
      "  (0, 49)\t0.368544633283\n",
      "  (0, 2)\t0.221753831939\n",
      "  (1, 44)\t0.609644004953\n",
      "  (1, 36)\t0.442011991718\n",
      "  (1, 84)\t0.579671474006\n",
      "  (1, 4)\t0.311352804109\n",
      "  (2, 16)\t0.278529358724\n",
      "  :\t:\n",
      "  (118, 72)\t0.192475782951\n",
      "  (118, 35)\t0.16008871037\n",
      "  (118, 73)\t0.154283341055\n",
      "  (118, 30)\t0.141988120997\n",
      "  (118, 84)\t0.356038999546\n",
      "  (118, 4)\t0.0956177299141\n",
      "  (118, 77)\t0.175339139512\n",
      "  (118, 52)\t0.109601048415\n",
      "  (118, 28)\t0.131942194735\n",
      "  (118, 1)\t0.163238141632\n",
      "  (118, 18)\t0.166578561114\n",
      "  (118, 46)\t0.131942194735\n",
      "  (118, 13)\t0.0837038265781\n",
      "  (119, 57)\t0.257302685823\n",
      "  (119, 38)\t0.2264160419\n",
      "  (119, 35)\t0.24727825041\n",
      "  (119, 41)\t0.234158589118\n",
      "  (119, 8)\t0.203802223118\n",
      "  (119, 16)\t0.252142964795\n",
      "  (119, 88)\t0.198309392736\n",
      "  (119, 28)\t0.203802223118\n",
      "  (119, 10)\t0.195690437441\n",
      "  (119, 75)\t0.158640807457\n",
      "  (119, 26)\t0.153776093072\n",
      "  (119, 49)\t0.702475767354\n"
     ]
    },
    {
     "data": {
      "text/plain": [
       "<120x92 sparse matrix of type '<class 'numpy.float64'>'\n",
       "\twith 1606 stored elements in Compressed Sparse Row format>"
      ]
     },
     "execution_count": 14,
     "metadata": {},
     "output_type": "execute_result"
    }
   ],
   "source": [
    "tfidf = TfidfVectorizer(tokenizer=tokenize, stop_words='english', max_df=160000,\n",
    "                        min_df=9, norm=\"l2\", use_idf=True)\n",
    "tfs = tfidf.fit_transform(text_list)\n",
    "print(tfs)\n",
    "tfs"
   ]
  },
  {
   "cell_type": "markdown",
   "metadata": {},
   "source": [
    "### Perform Feature Selection using Chi-squared Test\n",
    "The Chi-squared statistic measures dependence between stochastic variables, so a transformer based on this function \"weeds out\" the features that are the most likely to be independent of class and therefore irrelevant for classification."
   ]
  },
  {
   "cell_type": "code",
   "execution_count": 15,
   "metadata": {
    "collapsed": true
   },
   "outputs": [],
   "source": [
    "from sklearn.feature_selection import SelectKBest\n",
    "from sklearn.feature_selection import chi2"
   ]
  },
  {
   "cell_type": "code",
   "execution_count": 16,
   "metadata": {
    "collapsed": false
   },
   "outputs": [
    {
     "data": {
      "text/plain": [
       "<120x30 sparse matrix of type '<class 'numpy.float64'>'\n",
       "\twith 492 stored elements in Compressed Sparse Row format>"
      ]
     },
     "execution_count": 16,
     "metadata": {},
     "output_type": "execute_result"
    }
   ],
   "source": [
    "labels = text_df.label_column.tolist()  # Load labels\n",
    "# Perform chi-squared test to select top 30 features\n",
    "selected_features = SelectKBest(chi2, k=30).fit_transform(tfs, labels)\n",
    "selected_features"
   ]
  },
  {
   "cell_type": "markdown",
   "metadata": {},
   "source": [
    "### Step 4 - Train and Evaluate Models with Different Top K Words\n",
    "\n",
    "In this step, users can train and evaluate text classification models using state-of-the-art ML algorithms ranging from Two-Class Logistic Regression, Two-Class Support Vector Machine and Two-Class Boosted Decision Tree for binary text classification to One-vs-All Multiclass, Multiclass Logistic Regression and Multiclass Decision Forest for multi-class text classification. The user will also find the Sweep Parameters module that allows her to get the optimal values for the underlying learning algorithm parameters. In the case of binary models, the user has the advantage of visualizing the weights assigned to different words/unigrams that help her justify the decision of the trained model. Here, we used Two-Class Logistic Regression classifier as an example."
   ]
  },
  {
   "cell_type": "markdown",
   "metadata": {},
   "source": [
    "\n",
    "### Select Top Features\n",
    "Select top k words based on Chi-squared test score to formalize the feature vector.\n",
    "The features for this task is the words in different sentence, if we choose to use all words as features, then the feature space will become very large and sparse, which makes the training process much slower.\n",
    "Besides that feature selection will also simplify our model and reduce the chance of overfitting.\n",
    "\n",
    "\n",
    "\n"
   ]
  },
  {
   "cell_type": "code",
   "execution_count": 17,
   "metadata": {
    "collapsed": true
   },
   "outputs": [],
   "source": [
    "def select_top_features(chi_square, top_k_features, tf_idf_features, label_list):\n",
    "    '''\n",
    "    :param chi2: chi squared feature selctor\n",
    "    :param top_k: number of top features\n",
    "    :param tfs: tf-idf feature list\n",
    "    :param labels: labels of the feature list\n",
    "    :return: feature list after chi squared test\n",
    "    '''\n",
    "    return SelectKBest(chi_square, k=top_k_features).fit_transform(tf_idf_features, label_list)"
   ]
  },
  {
   "cell_type": "markdown",
   "metadata": {},
   "source": [
    "### Split Data for Training and Testing\n",
    "Split the transformed feature vectors into 80% as training set and 20% as test set.\n",
    "Training set is used to train a classifier and test set is used to test the performance of the trained classifier."
   ]
  },
  {
   "cell_type": "code",
   "execution_count": 18,
   "metadata": {
    "collapsed": true
   },
   "outputs": [],
   "source": [
    "from sklearn.cross_validation import train_test_split\n",
    "\n",
    "def split_data(selected_features_list, label_list):\n",
    "    '''\n",
    "    :param selected_features: feature list after feature selection\n",
    "    :param labels: labels of the feature list\n",
    "    :return: 80% training set and 20% test set\n",
    "    '''\n",
    "    return train_test_split(selected_features_list, label_list, test_size=0.2, random_state=12345)"
   ]
  },
  {
   "cell_type": "markdown",
   "metadata": {},
   "source": [
    "### Initialize Sweep Parameter\n",
    "To find the optimal parameters for the logistic regression, we test both l1 and l2 regularization with different regularization parameters C (0.1, 1 and 10). Usually a classifier will have several parameters to tune in order to get the best performance. These regularization parameters are used to avoid overfitting on the training set."
   ]
  },
  {
   "cell_type": "code",
   "execution_count": 19,
   "metadata": {
    "collapsed": true
   },
   "outputs": [],
   "source": [
    "def make_sweep_parameter_dict():\n",
    "    '''\n",
    "    :return: parameters of logistic regression model to tune\n",
    "    '''\n",
    "    return {\"penalty\": (\"l1\", \"l2\"), \"C\": [0.1, 1, 10]}"
   ]
  },
  {
   "cell_type": "markdown",
   "metadata": {},
   "source": [
    "### Sweep Parameters with Logistic Regression using Cross Validation\n",
    "Use 3-fold cross validation to find the optimal parameters for logistic regression algorithm, then train the algorithm with all training data and the optimal parameters. 3-fold cross validation will first split the training set into 3 equal sized subsamples. Of the 3 subsamples, a single subsample is retained as the validation set for testing the model, and the remaining k-1 subsamples are used as training data. The cross validation process is repeated 3 times with each of the 3 subsamples used exactly once as the validation data."
   ]
  },
  {
   "cell_type": "code",
   "execution_count": 20,
   "metadata": {
    "collapsed": true
   },
   "outputs": [],
   "source": [
    "from sklearn import grid_search\n",
    "from sklearn.linear_model import LogisticRegression\n",
    "\n",
    "def sweep_logistic_regression_cross_val(train_feature, train_label):\n",
    "    '''\n",
    "    :param train_x: feature of training set\n",
    "    :param train_y: label of training set\n",
    "    :return: trained logistic regression model\n",
    "    '''\n",
    "    model = LogisticRegression()\n",
    "    classifier = grid_search.GridSearchCV(model, make_sweep_parameter_dict())\n",
    "    classifier.fit(train_feature, train_label)\n",
    "    return classifier"
   ]
  },
  {
   "cell_type": "markdown",
   "metadata": {},
   "source": [
    "### Validate Model using Testing Data\n",
    "The probability of each record in test set is calculated by the trained model to calculate the AUC. AUC (area under the curve) is an important metric to evaluate the performance of the classifier. The value of the AUC lies in range [0, 1] and the bigger AUC means better performance."
   ]
  },
  {
   "cell_type": "code",
   "execution_count": 21,
   "metadata": {
    "collapsed": true
   },
   "outputs": [],
   "source": [
    "def prediction(classifier, test_feature):\n",
    "    '''\n",
    "    :param clf: the trained classifier\n",
    "    :param test_x: feature of test set\n",
    "    :return: score probability of test set\n",
    "    '''\n",
    "    return [classifier.predict_proba(feature)[0][1] for feature in test_feature]"
   ]
  },
  {
   "cell_type": "markdown",
   "metadata": {},
   "source": [
    "### Compute AUC\n",
    "Compute the AUC based on the label and the scores of test set and prepare input to plot ROC curve. In statistics, a ROC (receiver operating characteristic curve), is a graphical plot that illustrates the performance of a binary classifier system as its discrimination threshold is varied. And AUC is the area under ROC curve."
   ]
  },
  {
   "cell_type": "code",
   "execution_count": 22,
   "metadata": {
    "collapsed": true
   },
   "outputs": [],
   "source": [
    "from sklearn import metrics\n",
    "\n",
    "def calc_auc(test_label, predict_probability_list):\n",
    "    '''\n",
    "    :param test_y: label of test set\n",
    "    :param predict: score probability of test set\n",
    "    :return: falst positive list, true positive list,, AUC\n",
    "    '''\n",
    "    fpr_list, tpr_list = metrics.roc_curve(test_label,\n",
    "                                           predict_probability_list, pos_label=1)[:-1]\n",
    "    auc = metrics.auc(fpr_list, tpr_list)\n",
    "    return fpr_list, tpr_list, auc"
   ]
  },
  {
   "cell_type": "markdown",
   "metadata": {},
   "source": [
    "### Put it all together\n",
    "We select different top k words list based on Chi-squared test, and then a 3-fold cross validation is used to find the optimal parameters for the logistic regression algorithm based on the top k words. We trained the logistic regression algorithm with the optimal parameters, test its performance on test set and plot the ROC curve for each top k words list"
   ]
  },
  {
   "cell_type": "code",
   "execution_count": 23,
   "metadata": {
    "collapsed": false
   },
   "outputs": [
    {
     "data": {
      "image/png": "[encoded data removed]",
      "text/plain": [
       "<matplotlib.figure.Figure at 0x2507652c8d0>"
      ]
     },
     "metadata": {},
     "output_type": "display_data"
    }
   ],
   "source": [
    "import pylab as pl\n",
    "\n",
    "top_k_list = [5, 10, 20, 30]  #Select top words to see performance\n",
    "pl.clf()\n",
    "for top_k in top_k_list:\n",
    "    selected_features = select_top_features(chi2, top_k, tfs, labels)\n",
    "    train_x, test_x, train_y, test_y = split_data(selected_features, labels)\n",
    "    clf = sweep_logistic_regression_cross_val(train_x, train_y)\n",
    "    predict = prediction(clf, test_x)\n",
    "    fpr, tpr, roc_auc = calc_auc(test_y, predict)\n",
    "    pl.plot(fpr, tpr, label='ROC curve (area = %0.2f) with Top %d words' % (roc_auc, top_k))\n",
    "pl.plot([0, 1], [0, 1], 'k--')\n",
    "pl.xlim([0.0, 1.0])\n",
    "pl.ylim([0.0, 1.0])\n",
    "pl.xlabel('False Positive Rate')\n",
    "pl.ylabel('True Positive Rate')\n",
    "pl.title('Sentiment Analysis')\n",
    "pl.legend(loc=\"lower right\", prop={'size':8})\n",
    "pl.show()"
   ]
  },
  {
   "cell_type": "markdown",
   "metadata": {
    "collapsed": true
   },
   "source": []
  }
 ],
 "metadata": {
  "anaconda-cloud": {},
  "kernelspec": {
   "display_name": "Python [default]",
   "language": "python",
   "name": "python3"
  },
  "language_info": {
   "codemirror_mode": {
    "name": "ipython",
    "version": 3
   },
   "file_extension": ".py",
   "mimetype": "text/x-python",
   "name": "python",
   "nbconvert_exporter": "python",
   "pygments_lexer": "ipython3",
   "version": "3.5.2"
  }
 },
 "nbformat": 4,
 "nbformat_minor": 1
}
