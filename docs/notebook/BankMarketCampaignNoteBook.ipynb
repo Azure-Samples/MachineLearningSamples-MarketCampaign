{
 "cells": [
  {
   "cell_type": "markdown",
   "metadata": {},
   "source": [
    "# Market Campaign Prediction NoteBook\n",
    "\n",
    "## Summary\n",
    "Market campaign prediction aims to predict the success of telemarketing.\n",
    "\n",
    "## Description\n",
    "\n",
    "### Use Case Description\n",
    "A company, such as bank, wants to do market campaign prediction. The bank collects customer demographic data, bank account information, history telemarketing activity record from various data sources. The task is to build a pipeline that automatically analyze the bank market dataset, to predict the success of telemarketing calls for selling bank long-term deposits. The aim is to provide market intelligence for the bank and better target valuable customers and hence reduce marketing cost.\n",
    "\n",
    "#### Use Case Data\n",
    "The data used in this use case is [BankMarket dataset](https://archive.ics.uci.edu/ml/datasets/Bank+Marketing), a publicly available data set collected from UCI Machine Learning repository. The data contains 17 variables and 4521 rows. \n",
    "\n",
    "We shared the market data as a Blob in a public Windows Azure Storage account. You can use this shared data to follow the steps in this template, or you can access the full dataset from UCI website.\n",
    "\n",
    "Each instance in the data set has 17 fields:\n",
    "\n",
    "* 1 - age (numeric)\n",
    "* 2 - job : type of job (categorical: \"admin.\",\"unknown\",\"unemployed\",\"management\",\"housemaid\",\"entrepreneur\",\"student\", \"blue-collar\",\"self-employed\",\"retired\",\"technician\",\"services\") \n",
    "* 3 - marital : marital status (categorical: \"married\",\"divorced\",\"single\"; note: \"divorced\" means divorced or widowed)\n",
    "* 4 - education (categorical: \"unknown\",\"secondary\",\"primary\",\"tertiary\")\n",
    "* 5 - default: has credit in default? (binary: \"yes\",\"no\")\n",
    "* 6 - balance: average yearly balance, in euros (numeric) \n",
    "* 7 - housing: has housing loan? (binary: \"yes\",\"no\")\n",
    "* 8 - loan: has personal loan? (binary: \"yes\",\"no\")\n",
    "* 9 - contact: contact communication type (categorical: \"unknown\",\"telephone\",\"cellular\") \n",
    "* 10 - day: last contact day of the month (numeric)\n",
    "* 11 - month: last contact month of year (categorical: \"jan\", \"feb\", \"mar\", ..., \"nov\", \"dec\")\n",
    "* 12 - duration: last contact duration, in seconds (numeric)\n",
    "* 13 - campaign: number of contacts performed during this campaign and for this client (numeric, includes last contact)\n",
    "* 14 - pdays: number of days that passed by after the client was last contacted from a previous campaign (numeric, -1 means client was not previously contacted)\n",
    "* 15 - previous: number of contacts performed before this campaign and for this client (numeric)\n",
    "* 16 - poutcome: outcome of the previous marketing campaign (categorical: \"unknown\",\"other\",\"failure\",\"success\")\n",
    "\n",
    "Target variable:\n",
    "* 17 - y - has the client subscribed a term deposit? (binary: \"yes\",\"no\")"
   ]
  },
  {
   "cell_type": "markdown",
   "metadata": {},
   "source": [
    "### Set Up\n",
    "\n",
    "We import the python modules used in this solution."
   ]
  },
  {
   "cell_type": "code",
   "execution_count": 2,
   "metadata": {
    "collapsed": true
   },
   "outputs": [],
   "source": [
    "# This code snippet will load the referenced package and return a DataFrame.\n",
    "# If the code is run in a PySpark environemnt, then the code will return a\n",
    "# Spark DataFrame. If not, the code will return a Pandas DataFrame. You can\n",
    "# copy this code snippet to another code file as needed.    C:\\Users\\zhouf\\.amlenvrc.cmd\n",
    "\n",
    "# Import python module\n",
    "\n",
    "import pickle\n",
    "import sys\n",
    "import os\n",
    "\n",
    "import dataprep\n",
    "from dataprep.Package import Package\n",
    "\n",
    "import pandas as pd\n",
    "import numpy as np\n",
    "import csv\n",
    "\n",
    "from sklearn.preprocessing import LabelEncoder\n",
    "\n",
    "from sklearn.linear_model import LogisticRegression\n",
    "from sklearn.svm import SVC\n",
    "from sklearn.tree import DecisionTreeClassifier\n",
    "\n",
    "from sklearn import grid_search\n",
    "from sklearn import metrics\n",
    "\n",
    "from sklearn.metrics import confusion_matrix\n",
    "from sklearn.metrics import accuracy_score, precision_score, recall_score, f1_score\n",
    "from sklearn.cross_validation import train_test_split"
   ]
  },
  {
   "cell_type": "markdown",
   "metadata": {},
   "source": [
    "### Step 1 - Data Preparation\n",
    "\n",
    "We first retrieve the data as a data frame using .dprep that we created using the datasource wizard. Print the top few lines using head()."
   ]
  },
  {
   "cell_type": "code",
   "execution_count": 3,
   "metadata": {
    "collapsed": true
   },
   "outputs": [],
   "source": [
    "# Create the outputs folder\n",
    "\n",
    "os.makedirs('./outputs', exist_ok=True)"
   ]
  },
  {
   "cell_type": "code",
   "execution_count": 4,
   "metadata": {},
   "outputs": [
    {
     "data": {
      "text/html": [
       "<div>\n",
       "<table border=\"1\" class=\"dataframe\">\n",
       "  <thead>\n",
       "    <tr style=\"text-align: right;\">\n",
       "      <th></th>\n",
       "      <th>age</th>\n",
       "      <th>job</th>\n",
       "      <th>marital</th>\n",
       "      <th>education</th>\n",
       "      <th>default</th>\n",
       "      <th>balance</th>\n",
       "      <th>housing</th>\n",
       "      <th>loan</th>\n",
       "      <th>contact</th>\n",
       "      <th>day</th>\n",
       "      <th>month</th>\n",
       "      <th>duration</th>\n",
       "      <th>campaign</th>\n",
       "      <th>pdays</th>\n",
       "      <th>previous</th>\n",
       "      <th>poutcome</th>\n",
       "      <th>y</th>\n",
       "    </tr>\n",
       "  </thead>\n",
       "  <tbody>\n",
       "    <tr>\n",
       "      <th>0</th>\n",
       "      <td>30.0</td>\n",
       "      <td>unemployed</td>\n",
       "      <td>married</td>\n",
       "      <td>primary</td>\n",
       "      <td>no</td>\n",
       "      <td>1787.0</td>\n",
       "      <td>no</td>\n",
       "      <td>no</td>\n",
       "      <td>cellular</td>\n",
       "      <td>19.0</td>\n",
       "      <td>oct</td>\n",
       "      <td>79.0</td>\n",
       "      <td>1.0</td>\n",
       "      <td>-1.0</td>\n",
       "      <td>0.0</td>\n",
       "      <td>unknown</td>\n",
       "      <td>no</td>\n",
       "    </tr>\n",
       "    <tr>\n",
       "      <th>1</th>\n",
       "      <td>33.0</td>\n",
       "      <td>services</td>\n",
       "      <td>married</td>\n",
       "      <td>secondary</td>\n",
       "      <td>no</td>\n",
       "      <td>4789.0</td>\n",
       "      <td>yes</td>\n",
       "      <td>yes</td>\n",
       "      <td>cellular</td>\n",
       "      <td>11.0</td>\n",
       "      <td>may</td>\n",
       "      <td>220.0</td>\n",
       "      <td>1.0</td>\n",
       "      <td>339.0</td>\n",
       "      <td>4.0</td>\n",
       "      <td>failure</td>\n",
       "      <td>no</td>\n",
       "    </tr>\n",
       "    <tr>\n",
       "      <th>2</th>\n",
       "      <td>35.0</td>\n",
       "      <td>management</td>\n",
       "      <td>single</td>\n",
       "      <td>tertiary</td>\n",
       "      <td>no</td>\n",
       "      <td>1350.0</td>\n",
       "      <td>yes</td>\n",
       "      <td>no</td>\n",
       "      <td>cellular</td>\n",
       "      <td>16.0</td>\n",
       "      <td>apr</td>\n",
       "      <td>185.0</td>\n",
       "      <td>1.0</td>\n",
       "      <td>330.0</td>\n",
       "      <td>1.0</td>\n",
       "      <td>failure</td>\n",
       "      <td>no</td>\n",
       "    </tr>\n",
       "    <tr>\n",
       "      <th>3</th>\n",
       "      <td>30.0</td>\n",
       "      <td>management</td>\n",
       "      <td>married</td>\n",
       "      <td>tertiary</td>\n",
       "      <td>no</td>\n",
       "      <td>1476.0</td>\n",
       "      <td>yes</td>\n",
       "      <td>yes</td>\n",
       "      <td>unknown</td>\n",
       "      <td>3.0</td>\n",
       "      <td>jun</td>\n",
       "      <td>199.0</td>\n",
       "      <td>4.0</td>\n",
       "      <td>-1.0</td>\n",
       "      <td>0.0</td>\n",
       "      <td>unknown</td>\n",
       "      <td>no</td>\n",
       "    </tr>\n",
       "    <tr>\n",
       "      <th>4</th>\n",
       "      <td>59.0</td>\n",
       "      <td>blue-collar</td>\n",
       "      <td>married</td>\n",
       "      <td>secondary</td>\n",
       "      <td>no</td>\n",
       "      <td>0.0</td>\n",
       "      <td>yes</td>\n",
       "      <td>no</td>\n",
       "      <td>unknown</td>\n",
       "      <td>5.0</td>\n",
       "      <td>may</td>\n",
       "      <td>226.0</td>\n",
       "      <td>1.0</td>\n",
       "      <td>-1.0</td>\n",
       "      <td>0.0</td>\n",
       "      <td>unknown</td>\n",
       "      <td>no</td>\n",
       "    </tr>\n",
       "  </tbody>\n",
       "</table>\n",
       "</div>"
      ],
      "text/plain": [
       "    age          job  marital  education default  balance housing loan  \\\n",
       "0  30.0   unemployed  married    primary      no   1787.0      no   no   \n",
       "1  33.0     services  married  secondary      no   4789.0     yes  yes   \n",
       "2  35.0   management   single   tertiary      no   1350.0     yes   no   \n",
       "3  30.0   management  married   tertiary      no   1476.0     yes  yes   \n",
       "4  59.0  blue-collar  married  secondary      no      0.0     yes   no   \n",
       "\n",
       "    contact   day month  duration  campaign  pdays  previous poutcome   y  \n",
       "0  cellular  19.0   oct      79.0       1.0   -1.0       0.0  unknown  no  \n",
       "1  cellular  11.0   may     220.0       1.0  339.0       4.0  failure  no  \n",
       "2  cellular  16.0   apr     185.0       1.0  330.0       1.0  failure  no  \n",
       "3   unknown   3.0   jun     199.0       4.0   -1.0       0.0  unknown  no  \n",
       "4   unknown   5.0   may     226.0       1.0   -1.0       0.0  unknown  no  "
      ]
     },
     "execution_count": 4,
     "metadata": {},
     "output_type": "execute_result"
    }
   ],
   "source": [
    "# Load the bank dataset\n",
    "\n",
    "with Package.open_package('BankMarketCampaignTrainingSample.dprep') as pkg:\n",
    "    df = pkg.dataflows[0].get_dataframe()\n",
    "df.head()"
   ]
  },
  {
   "cell_type": "markdown",
   "metadata": {},
   "source": [
    "### Step 2 - Feature Engineering\n",
    "### Column encoding\n",
    "\n",
    "Convert categorical variable into dummy/indicator variables using pandas.get_dummies. In addition, we will need to change the column names to ensure there are no multiple columns with the same name"
   ]
  },
  {
   "cell_type": "code",
   "execution_count": 5,
   "metadata": {},
   "outputs": [
    {
     "data": {
      "text/plain": [
       "['job',\n",
       " 'marital',\n",
       " 'education',\n",
       " 'default',\n",
       " 'housing',\n",
       " 'loan',\n",
       " 'contact',\n",
       " 'month',\n",
       " 'poutcome',\n",
       " 'y']"
      ]
     },
     "execution_count": 5,
     "metadata": {},
     "output_type": "execute_result"
    }
   ],
   "source": [
    "# Encode columns\n",
    "\n",
    "columns_to_encode = list(df.select_dtypes(include=['category','object']))\n",
    "columns_to_encode"
   ]
  },
  {
   "cell_type": "code",
   "execution_count": 6,
   "metadata": {},
   "outputs": [
    {
     "name": "stdout",
     "output_type": "stream",
     "text": [
      "job\n",
      "admin.           1\n",
      "blue-collar      1\n",
      "entrepreneur     1\n",
      "housemaid        1\n",
      "management       1\n",
      "retired          1\n",
      "self-employed    1\n",
      "services         1\n",
      "student          1\n",
      "technician       1\n",
      "unemployed       1\n",
      "unknown          1\n",
      "Name: job, dtype: int64\n",
      "marital\n",
      "divorced    1\n",
      "married     1\n",
      "single      1\n",
      "Name: marital, dtype: int64\n",
      "education\n",
      "primary      1\n",
      "secondary    1\n",
      "tertiary     1\n",
      "unknown      1\n",
      "Name: education, dtype: int64\n",
      "default\n",
      "no     1\n",
      "yes    1\n",
      "Name: default, dtype: int64\n",
      "housing\n",
      "no     1\n",
      "yes    1\n",
      "Name: housing, dtype: int64\n",
      "loan\n",
      "no     1\n",
      "yes    1\n",
      "Name: loan, dtype: int64\n",
      "contact\n",
      "cellular     1\n",
      "telephone    1\n",
      "unknown      1\n",
      "Name: contact, dtype: int64\n",
      "month\n",
      "apr    1\n",
      "aug    1\n",
      "dec    1\n",
      "feb    1\n",
      "jan    1\n",
      "jul    1\n",
      "jun    1\n",
      "mar    1\n",
      "may    1\n",
      "nov    1\n",
      "oct    1\n",
      "sep    1\n",
      "Name: month, dtype: int64\n",
      "poutcome\n",
      "failure    1\n",
      "other      1\n",
      "success    1\n",
      "unknown    1\n",
      "Name: poutcome, dtype: int64\n",
      "y\n",
      "no     1\n",
      "yes    1\n",
      "Name: y, dtype: int64\n"
     ]
    }
   ],
   "source": [
    "# Show unique values for columns to encode\n",
    "\n",
    "for column_to_encode in columns_to_encode:\n",
    "    g = df.groupby(column_to_encode)\n",
    "    print(g[column_to_encode].nunique())"
   ]
  },
  {
   "cell_type": "code",
   "execution_count": 7,
   "metadata": {},
   "outputs": [
    {
     "data": {
      "text/html": [
       "<div>\n",
       "<table border=\"1\" class=\"dataframe\">\n",
       "  <thead>\n",
       "    <tr style=\"text-align: right;\">\n",
       "      <th></th>\n",
       "      <th>age</th>\n",
       "      <th>balance</th>\n",
       "      <th>day</th>\n",
       "      <th>duration</th>\n",
       "      <th>campaign</th>\n",
       "      <th>pdays</th>\n",
       "      <th>previous</th>\n",
       "      <th>job_admin.</th>\n",
       "      <th>job_blue-collar</th>\n",
       "      <th>job_entrepreneur</th>\n",
       "      <th>...</th>\n",
       "      <th>month_may</th>\n",
       "      <th>month_nov</th>\n",
       "      <th>month_oct</th>\n",
       "      <th>month_sep</th>\n",
       "      <th>poutcome_failure</th>\n",
       "      <th>poutcome_other</th>\n",
       "      <th>poutcome_success</th>\n",
       "      <th>poutcome_unknown</th>\n",
       "      <th>y_no</th>\n",
       "      <th>y_yes</th>\n",
       "    </tr>\n",
       "  </thead>\n",
       "  <tbody>\n",
       "    <tr>\n",
       "      <th>0</th>\n",
       "      <td>30.0</td>\n",
       "      <td>1787.0</td>\n",
       "      <td>19.0</td>\n",
       "      <td>79.0</td>\n",
       "      <td>1.0</td>\n",
       "      <td>-1.0</td>\n",
       "      <td>0.0</td>\n",
       "      <td>0</td>\n",
       "      <td>0</td>\n",
       "      <td>0</td>\n",
       "      <td>...</td>\n",
       "      <td>0</td>\n",
       "      <td>0</td>\n",
       "      <td>1</td>\n",
       "      <td>0</td>\n",
       "      <td>0</td>\n",
       "      <td>0</td>\n",
       "      <td>0</td>\n",
       "      <td>1</td>\n",
       "      <td>1</td>\n",
       "      <td>0</td>\n",
       "    </tr>\n",
       "    <tr>\n",
       "      <th>1</th>\n",
       "      <td>33.0</td>\n",
       "      <td>4789.0</td>\n",
       "      <td>11.0</td>\n",
       "      <td>220.0</td>\n",
       "      <td>1.0</td>\n",
       "      <td>339.0</td>\n",
       "      <td>4.0</td>\n",
       "      <td>0</td>\n",
       "      <td>0</td>\n",
       "      <td>0</td>\n",
       "      <td>...</td>\n",
       "      <td>1</td>\n",
       "      <td>0</td>\n",
       "      <td>0</td>\n",
       "      <td>0</td>\n",
       "      <td>1</td>\n",
       "      <td>0</td>\n",
       "      <td>0</td>\n",
       "      <td>0</td>\n",
       "      <td>1</td>\n",
       "      <td>0</td>\n",
       "    </tr>\n",
       "    <tr>\n",
       "      <th>2</th>\n",
       "      <td>35.0</td>\n",
       "      <td>1350.0</td>\n",
       "      <td>16.0</td>\n",
       "      <td>185.0</td>\n",
       "      <td>1.0</td>\n",
       "      <td>330.0</td>\n",
       "      <td>1.0</td>\n",
       "      <td>0</td>\n",
       "      <td>0</td>\n",
       "      <td>0</td>\n",
       "      <td>...</td>\n",
       "      <td>0</td>\n",
       "      <td>0</td>\n",
       "      <td>0</td>\n",
       "      <td>0</td>\n",
       "      <td>1</td>\n",
       "      <td>0</td>\n",
       "      <td>0</td>\n",
       "      <td>0</td>\n",
       "      <td>1</td>\n",
       "      <td>0</td>\n",
       "    </tr>\n",
       "    <tr>\n",
       "      <th>3</th>\n",
       "      <td>30.0</td>\n",
       "      <td>1476.0</td>\n",
       "      <td>3.0</td>\n",
       "      <td>199.0</td>\n",
       "      <td>4.0</td>\n",
       "      <td>-1.0</td>\n",
       "      <td>0.0</td>\n",
       "      <td>0</td>\n",
       "      <td>0</td>\n",
       "      <td>0</td>\n",
       "      <td>...</td>\n",
       "      <td>0</td>\n",
       "      <td>0</td>\n",
       "      <td>0</td>\n",
       "      <td>0</td>\n",
       "      <td>0</td>\n",
       "      <td>0</td>\n",
       "      <td>0</td>\n",
       "      <td>1</td>\n",
       "      <td>1</td>\n",
       "      <td>0</td>\n",
       "    </tr>\n",
       "    <tr>\n",
       "      <th>4</th>\n",
       "      <td>59.0</td>\n",
       "      <td>0.0</td>\n",
       "      <td>5.0</td>\n",
       "      <td>226.0</td>\n",
       "      <td>1.0</td>\n",
       "      <td>-1.0</td>\n",
       "      <td>0.0</td>\n",
       "      <td>0</td>\n",
       "      <td>1</td>\n",
       "      <td>0</td>\n",
       "      <td>...</td>\n",
       "      <td>1</td>\n",
       "      <td>0</td>\n",
       "      <td>0</td>\n",
       "      <td>0</td>\n",
       "      <td>0</td>\n",
       "      <td>0</td>\n",
       "      <td>0</td>\n",
       "      <td>1</td>\n",
       "      <td>1</td>\n",
       "      <td>0</td>\n",
       "    </tr>\n",
       "  </tbody>\n",
       "</table>\n",
       "<p>5 rows × 53 columns</p>\n",
       "</div>"
      ],
      "text/plain": [
       "    age  balance   day  duration  campaign  pdays  previous  job_admin.  \\\n",
       "0  30.0   1787.0  19.0      79.0       1.0   -1.0       0.0           0   \n",
       "1  33.0   4789.0  11.0     220.0       1.0  339.0       4.0           0   \n",
       "2  35.0   1350.0  16.0     185.0       1.0  330.0       1.0           0   \n",
       "3  30.0   1476.0   3.0     199.0       4.0   -1.0       0.0           0   \n",
       "4  59.0      0.0   5.0     226.0       1.0   -1.0       0.0           0   \n",
       "\n",
       "   job_blue-collar  job_entrepreneur  ...    month_may  month_nov  month_oct  \\\n",
       "0                0                 0  ...            0          0          1   \n",
       "1                0                 0  ...            1          0          0   \n",
       "2                0                 0  ...            0          0          0   \n",
       "3                0                 0  ...            0          0          0   \n",
       "4                1                 0  ...            1          0          0   \n",
       "\n",
       "   month_sep  poutcome_failure  poutcome_other  poutcome_success  \\\n",
       "0          0                 0               0                 0   \n",
       "1          0                 1               0                 0   \n",
       "2          0                 1               0                 0   \n",
       "3          0                 0               0                 0   \n",
       "4          0                 0               0                 0   \n",
       "\n",
       "   poutcome_unknown  y_no  y_yes  \n",
       "0                 1     1      0  \n",
       "1                 0     1      0  \n",
       "2                 0     1      0  \n",
       "3                 1     1      0  \n",
       "4                 1     1      0  \n",
       "\n",
       "[5 rows x 53 columns]"
      ]
     },
     "execution_count": 7,
     "metadata": {},
     "output_type": "execute_result"
    }
   ],
   "source": [
    "# Encode columns\n",
    "\n",
    "for column_to_encode in columns_to_encode:\n",
    "    dummies = pd.get_dummies(df[column_to_encode])\n",
    "    one_hot_col_names = []\n",
    "    for col_name in list(dummies.columns):\n",
    "        one_hot_col_names.append(column_to_encode + '_' + col_name)\n",
    "    dummies.columns = one_hot_col_names\n",
    "    df = df.drop(column_to_encode, axis=1)\n",
    "    df = df.join(dummies)\n",
    "    \n",
    "df.head()"
   ]
  },
  {
   "cell_type": "code",
   "execution_count": 8,
   "metadata": {},
   "outputs": [
    {
     "data": {
      "text/html": [
       "<div>\n",
       "<table border=\"1\" class=\"dataframe\">\n",
       "  <thead>\n",
       "    <tr style=\"text-align: right;\">\n",
       "      <th></th>\n",
       "      <th>age</th>\n",
       "      <th>balance</th>\n",
       "      <th>day</th>\n",
       "      <th>duration</th>\n",
       "      <th>campaign</th>\n",
       "      <th>pdays</th>\n",
       "      <th>previous</th>\n",
       "      <th>job_admin.</th>\n",
       "      <th>job_blue-collar</th>\n",
       "      <th>job_entrepreneur</th>\n",
       "      <th>...</th>\n",
       "      <th>month_mar</th>\n",
       "      <th>month_may</th>\n",
       "      <th>month_nov</th>\n",
       "      <th>month_oct</th>\n",
       "      <th>month_sep</th>\n",
       "      <th>poutcome_failure</th>\n",
       "      <th>poutcome_other</th>\n",
       "      <th>poutcome_success</th>\n",
       "      <th>poutcome_unknown</th>\n",
       "      <th>y_yes</th>\n",
       "    </tr>\n",
       "  </thead>\n",
       "  <tbody>\n",
       "    <tr>\n",
       "      <th>0</th>\n",
       "      <td>30.0</td>\n",
       "      <td>1787.0</td>\n",
       "      <td>19.0</td>\n",
       "      <td>79.0</td>\n",
       "      <td>1.0</td>\n",
       "      <td>-1.0</td>\n",
       "      <td>0.0</td>\n",
       "      <td>0</td>\n",
       "      <td>0</td>\n",
       "      <td>0</td>\n",
       "      <td>...</td>\n",
       "      <td>0</td>\n",
       "      <td>0</td>\n",
       "      <td>0</td>\n",
       "      <td>1</td>\n",
       "      <td>0</td>\n",
       "      <td>0</td>\n",
       "      <td>0</td>\n",
       "      <td>0</td>\n",
       "      <td>1</td>\n",
       "      <td>0</td>\n",
       "    </tr>\n",
       "    <tr>\n",
       "      <th>1</th>\n",
       "      <td>33.0</td>\n",
       "      <td>4789.0</td>\n",
       "      <td>11.0</td>\n",
       "      <td>220.0</td>\n",
       "      <td>1.0</td>\n",
       "      <td>339.0</td>\n",
       "      <td>4.0</td>\n",
       "      <td>0</td>\n",
       "      <td>0</td>\n",
       "      <td>0</td>\n",
       "      <td>...</td>\n",
       "      <td>0</td>\n",
       "      <td>1</td>\n",
       "      <td>0</td>\n",
       "      <td>0</td>\n",
       "      <td>0</td>\n",
       "      <td>1</td>\n",
       "      <td>0</td>\n",
       "      <td>0</td>\n",
       "      <td>0</td>\n",
       "      <td>0</td>\n",
       "    </tr>\n",
       "    <tr>\n",
       "      <th>2</th>\n",
       "      <td>35.0</td>\n",
       "      <td>1350.0</td>\n",
       "      <td>16.0</td>\n",
       "      <td>185.0</td>\n",
       "      <td>1.0</td>\n",
       "      <td>330.0</td>\n",
       "      <td>1.0</td>\n",
       "      <td>0</td>\n",
       "      <td>0</td>\n",
       "      <td>0</td>\n",
       "      <td>...</td>\n",
       "      <td>0</td>\n",
       "      <td>0</td>\n",
       "      <td>0</td>\n",
       "      <td>0</td>\n",
       "      <td>0</td>\n",
       "      <td>1</td>\n",
       "      <td>0</td>\n",
       "      <td>0</td>\n",
       "      <td>0</td>\n",
       "      <td>0</td>\n",
       "    </tr>\n",
       "    <tr>\n",
       "      <th>3</th>\n",
       "      <td>30.0</td>\n",
       "      <td>1476.0</td>\n",
       "      <td>3.0</td>\n",
       "      <td>199.0</td>\n",
       "      <td>4.0</td>\n",
       "      <td>-1.0</td>\n",
       "      <td>0.0</td>\n",
       "      <td>0</td>\n",
       "      <td>0</td>\n",
       "      <td>0</td>\n",
       "      <td>...</td>\n",
       "      <td>0</td>\n",
       "      <td>0</td>\n",
       "      <td>0</td>\n",
       "      <td>0</td>\n",
       "      <td>0</td>\n",
       "      <td>0</td>\n",
       "      <td>0</td>\n",
       "      <td>0</td>\n",
       "      <td>1</td>\n",
       "      <td>0</td>\n",
       "    </tr>\n",
       "    <tr>\n",
       "      <th>4</th>\n",
       "      <td>59.0</td>\n",
       "      <td>0.0</td>\n",
       "      <td>5.0</td>\n",
       "      <td>226.0</td>\n",
       "      <td>1.0</td>\n",
       "      <td>-1.0</td>\n",
       "      <td>0.0</td>\n",
       "      <td>0</td>\n",
       "      <td>1</td>\n",
       "      <td>0</td>\n",
       "      <td>...</td>\n",
       "      <td>0</td>\n",
       "      <td>1</td>\n",
       "      <td>0</td>\n",
       "      <td>0</td>\n",
       "      <td>0</td>\n",
       "      <td>0</td>\n",
       "      <td>0</td>\n",
       "      <td>0</td>\n",
       "      <td>1</td>\n",
       "      <td>0</td>\n",
       "    </tr>\n",
       "  </tbody>\n",
       "</table>\n",
       "<p>5 rows × 52 columns</p>\n",
       "</div>"
      ],
      "text/plain": [
       "    age  balance   day  duration  campaign  pdays  previous  job_admin.  \\\n",
       "0  30.0   1787.0  19.0      79.0       1.0   -1.0       0.0           0   \n",
       "1  33.0   4789.0  11.0     220.0       1.0  339.0       4.0           0   \n",
       "2  35.0   1350.0  16.0     185.0       1.0  330.0       1.0           0   \n",
       "3  30.0   1476.0   3.0     199.0       4.0   -1.0       0.0           0   \n",
       "4  59.0      0.0   5.0     226.0       1.0   -1.0       0.0           0   \n",
       "\n",
       "   job_blue-collar  job_entrepreneur  ...    month_mar  month_may  month_nov  \\\n",
       "0                0                 0  ...            0          0          0   \n",
       "1                0                 0  ...            0          1          0   \n",
       "2                0                 0  ...            0          0          0   \n",
       "3                0                 0  ...            0          0          0   \n",
       "4                1                 0  ...            0          1          0   \n",
       "\n",
       "   month_oct  month_sep  poutcome_failure  poutcome_other  poutcome_success  \\\n",
       "0          1          0                 0               0                 0   \n",
       "1          0          0                 1               0                 0   \n",
       "2          0          0                 1               0                 0   \n",
       "3          0          0                 0               0                 0   \n",
       "4          0          0                 0               0                 0   \n",
       "\n",
       "   poutcome_unknown  y_yes  \n",
       "0                 1      0  \n",
       "1                 0      0  \n",
       "2                 0      0  \n",
       "3                 1      0  \n",
       "4                 1      0  \n",
       "\n",
       "[5 rows x 52 columns]"
      ]
     },
     "execution_count": 8,
     "metadata": {},
     "output_type": "execute_result"
    }
   ],
   "source": [
    "# Keep only one response variable\n",
    "\n",
    "df = df.drop('y_no', axis=1)\n",
    "df.head()"
   ]
  },
  {
   "cell_type": "markdown",
   "metadata": {},
   "source": [
    "### Step 3 - Model Training and Evaluation\n",
    "We train the model with Logistic Regression, Support Vector Machine, Decision Tree classifiers and do model validation on the testing dataset.\n",
    "\n",
    "### Split Data for Training and Testing\n",
    "First, we split the data into training and testing datatest."
   ]
  },
  {
   "cell_type": "code",
   "execution_count": 9,
   "metadata": {
    "collapsed": true
   },
   "outputs": [],
   "source": [
    "# Split the data into training and testing datasets\n",
    "\n",
    "train, test = train_test_split(df, test_size = 0.2, random_state=99)"
   ]
  },
  {
   "cell_type": "code",
   "execution_count": 10,
   "metadata": {
    "collapsed": true
   },
   "outputs": [],
   "source": [
    "# Specify the values of label and features in training and testing datasets.\n",
    "\n",
    "train_y = train['y_yes'].values\n",
    "\n",
    "train_x = train.drop('y_yes', axis=1)\n",
    "train_x = train_x.values\n",
    "\n",
    "test_y = test['y_yes'].values\n",
    "test_x = test.drop('y_yes', axis=1)"
   ]
  },
  {
   "cell_type": "markdown",
   "metadata": {},
   "source": [
    "### Initialize Sweep Parameter\n",
    "To find the optimal parameters, we specify the parameter dictionary for each classifier. Usually a classifier will have several parameters to tune in order to get the best performance. "
   ]
  },
  {
   "cell_type": "code",
   "execution_count": 11,
   "metadata": {
    "collapsed": true
   },
   "outputs": [],
   "source": [
    "# Make sweep parameter dictionary\n",
    "\n",
    "# Logistic Regression\n",
    "\n",
    "def make_sweep_parameter_lr_dict():\n",
    "    '''\n",
    "    :return: parameters of logistic regression model to tune\n",
    "    '''\n",
    "    return {\"penalty\": (\"l1\", \"l2\"), \"C\": [0.1, 1, 10]}"
   ]
  },
  {
   "cell_type": "code",
   "execution_count": 12,
   "metadata": {
    "collapsed": true
   },
   "outputs": [],
   "source": [
    "# Support Vector Machine\n",
    "\n",
    "def make_sweep_parameter_svm_dict():\n",
    "    '''\n",
    "    :return: parameters of support vector machine model to tune\n",
    "    '''\n",
    "    return {\"gamma\": [0.0001, 0.01, 1, 100], \"C\": [1]}"
   ]
  },
  {
   "cell_type": "code",
   "execution_count": 13,
   "metadata": {
    "collapsed": true
   },
   "outputs": [],
   "source": [
    "# Decision Tree\n",
    "\n",
    "def make_sweep_parameter_dt_dict():\n",
    "    '''\n",
    "    :return: parameters of decision tree model to tune\n",
    "    '''\n",
    "    return{'max_depth': [4, 8, 16, 32]}"
   ]
  },
  {
   "cell_type": "markdown",
   "metadata": {},
   "source": [
    "### Sweep Parameters with Each Classifier using Cross Validation\n",
    "Use 3-fold cross validation to find the optimal parameters for each algorithm, then train the algorithm with all training data and the optimal parameters. 3-fold cross validation will first split the training set into 3 equal sized subsamples. Of the 3 subsamples, a single subsample is retained as the validation set for testing the model, and the remaining k-1 subsamples are used as training data. The cross validation process is repeated 3 times with each of the 3 subsamples used exactly once as the validation data."
   ]
  },
  {
   "cell_type": "code",
   "execution_count": 14,
   "metadata": {
    "collapsed": true
   },
   "outputs": [],
   "source": [
    "def sweep_classifier_cross_val(train_feature, train_label, model_name, parameter_dict):\n",
    "    '''\n",
    "    :param train_feature: feature of training set\n",
    "    :param train_label: label of training set\n",
    "    :param model_name: model\n",
    "    :param parameter_dict: parameters of the model to tune\n",
    "    :return: trained model\n",
    "    '''\n",
    "    classifier = grid_search.GridSearchCV(model_name, parameter_dict)\n",
    "    classifier.fit(train_feature, train_label)\n",
    "    return classifier"
   ]
  },
  {
   "cell_type": "markdown",
   "metadata": {},
   "source": [
    "### Validate Model using Testing Data\n",
    "The scored label of each record in test set is calculated by the trained model to calculate the evaluation metrics, including confusion matrix, accuracy, precision, recall and f-score."
   ]
  },
  {
   "cell_type": "code",
   "execution_count": 15,
   "metadata": {
    "collapsed": true
   },
   "outputs": [],
   "source": [
    "def prediction(classifier, test_feature):\n",
    "    '''\n",
    "    :param classifier: the trained classifier\n",
    "    :param test_feature: feature of test set\n",
    "    :return: scored label of test set\n",
    "    '''\n",
    "    predicted_label = classifier.predict(test_feature)\n",
    "    return predicted_label"
   ]
  },
  {
   "cell_type": "markdown",
   "metadata": {},
   "source": [
    "### Compute Metrics\n",
    "Compute the evaluation metrics based on the label and the scored label of test set."
   ]
  },
  {
   "cell_type": "code",
   "execution_count": 16,
   "metadata": {
    "collapsed": true
   },
   "outputs": [],
   "source": [
    "def calc_metrics(test_label, predicted_label):\n",
    "    '''\n",
    "    :param test_label: label of test set\n",
    "    :param predicted_label: scored label of test set\n",
    "    :return: evaluation metrics\n",
    "    '''\n",
    "    cm = confusion_matrix(test_label, predicted_label)\n",
    "    acc = accuracy_score(test_label, predicted_label)\n",
    "    pre = precision_score(test_label, predicted_label)\n",
    "    rec = recall_score(test_label, predicted_label)\n",
    "    f1 = f1_score(test_label, predicted_label)\n",
    "    return cm, acc, pre, rec, f1"
   ]
  },
  {
   "cell_type": "markdown",
   "metadata": {},
   "source": [
    "### Put it all together\n",
    "We use a 3-fold cross validation to find the optimal parameters for each algorithm and then  train the model with the optimal parameters, test its performance on test set and finally save the optimal models."
   ]
  },
  {
   "cell_type": "code",
   "execution_count": 17,
   "metadata": {},
   "outputs": [
    {
     "name": "stdout",
     "output_type": "stream",
     "text": [
      "GridSearchCV(cv=None, error_score='raise',\n",
      "       estimator=LogisticRegression(C=1.0, class_weight=None, dual=False, fit_intercept=True,\n",
      "          intercept_scaling=1, max_iter=100, multi_class='ovr', n_jobs=1,\n",
      "          penalty='l2', random_state=None, solver='liblinear', tol=0.0001,\n",
      "          verbose=0, warm_start=False),\n",
      "       fit_params={}, iid=True, n_jobs=1,\n",
      "       param_grid={'C': [0.1, 1, 10], 'penalty': ('l1', 'l2')},\n",
      "       pre_dispatch='2*n_jobs', refit=True, scoring=None, verbose=0)\n"
     ]
    }
   ],
   "source": [
    "# Train and evaluate logistic regression\n",
    "\n",
    "model_name = LogisticRegression()\n",
    "parameter_dict = make_sweep_parameter_lr_dict()\n",
    "lrf = sweep_classifier_cross_val(train_feature=train_x, \n",
    "                                 train_label=train_y, \n",
    "                                 model_name=model_name, \n",
    "                                 parameter_dict=parameter_dict)\n",
    "print(lrf)"
   ]
  },
  {
   "cell_type": "code",
   "execution_count": 18,
   "metadata": {
    "collapsed": true
   },
   "outputs": [],
   "source": [
    "predicted = prediction(lrf, test_x)"
   ]
  },
  {
   "cell_type": "code",
   "execution_count": 19,
   "metadata": {
    "collapsed": true
   },
   "outputs": [],
   "source": [
    "cm, acc, pre, rec, f1 = calc_metrics(test_y, predicted)"
   ]
  },
  {
   "cell_type": "code",
   "execution_count": 20,
   "metadata": {},
   "outputs": [
    {
     "name": "stdout",
     "output_type": "stream",
     "text": [
      "Confusion Matrix:\n",
      "[[778  24]\n",
      " [ 61  42]]\n",
      "Accuracy: 0.91\n",
      "Precision: 0.64\n",
      "Recall: 0.41\n",
      "F1: 0.50\n"
     ]
    }
   ],
   "source": [
    "print('Confusion Matrix:')\n",
    "print(cm)\n",
    "print('Accuracy: {:.2f}'.format(acc))\n",
    "print('Precision: {:.2f}'.format(pre))\n",
    "print('Recall: {:.2f}'.format(rec))\n",
    "print('F1: {:.2f}'.format(f1))"
   ]
  },
  {
   "cell_type": "code",
   "execution_count": 21,
   "metadata": {},
   "outputs": [
    {
     "name": "stdout",
     "output_type": "stream",
     "text": [
      "GridSearchCV(cv=None, error_score='raise',\n",
      "       estimator=SVC(C=1.0, cache_size=200, class_weight=None, coef0=0.0,\n",
      "  decision_function_shape=None, degree=3, gamma='auto', kernel='rbf',\n",
      "  max_iter=-1, probability=False, random_state=None, shrinking=True,\n",
      "  tol=0.001, verbose=False),\n",
      "       fit_params={}, iid=True, n_jobs=1,\n",
      "       param_grid={'C': [1], 'gamma': [0.0001, 0.01, 1, 100]},\n",
      "       pre_dispatch='2*n_jobs', refit=True, scoring=None, verbose=0)\n"
     ]
    }
   ],
   "source": [
    "# Train and evaluate support vector machine\n",
    "\n",
    "model_name = SVC(kernel=\"rbf\")\n",
    "parameter_dict = make_sweep_parameter_svm_dict()\n",
    "svf = sweep_classifier_cross_val(train_feature=train_x, \n",
    "                                 train_label=train_y, \n",
    "                                 model_name=model_name, \n",
    "                                 parameter_dict=parameter_dict)\n",
    "print(svf)"
   ]
  },
  {
   "cell_type": "code",
   "execution_count": 23,
   "metadata": {
    "collapsed": true
   },
   "outputs": [],
   "source": [
    "predicted = prediction(svf, test_x)"
   ]
  },
  {
   "cell_type": "code",
   "execution_count": 24,
   "metadata": {},
   "outputs": [
    {
     "name": "stdout",
     "output_type": "stream",
     "text": [
      "Confusion Matrix:\n",
      "[[794   8]\n",
      " [ 99   4]]\n",
      "Accuracy: 0.88\n",
      "Precision: 0.33\n",
      "Recall: 0.04\n",
      "F1: 0.07\n"
     ]
    }
   ],
   "source": [
    "cm, acc, pre, rec, f1 = calc_metrics(test_y, predicted)\n",
    "\n",
    "print('Confusion Matrix:')\n",
    "print(cm)\n",
    "print('Accuracy: {:.2f}'.format(acc))\n",
    "print('Precision: {:.2f}'.format(pre))\n",
    "print('Recall: {:.2f}'.format(rec))\n",
    "print('F1: {:.2f}'.format(f1))"
   ]
  },
  {
   "cell_type": "code",
   "execution_count": 26,
   "metadata": {},
   "outputs": [
    {
     "name": "stdout",
     "output_type": "stream",
     "text": [
      "GridSearchCV(cv=None, error_score='raise',\n",
      "       estimator=DecisionTreeClassifier(class_weight=None, criterion='gini', max_depth=None,\n",
      "            max_features=None, max_leaf_nodes=None,\n",
      "            min_impurity_split=1e-07, min_samples_leaf=1,\n",
      "            min_samples_split=20, min_weight_fraction_leaf=0.0,\n",
      "            presort=False, random_state=0, splitter='best'),\n",
      "       fit_params={}, iid=True, n_jobs=1,\n",
      "       param_grid={'max_depth': [4, 8, 16, 32]}, pre_dispatch='2*n_jobs',\n",
      "       refit=True, scoring=None, verbose=0)\n"
     ]
    }
   ],
   "source": [
    "# Train and evaluate support vector machine\n",
    "\n",
    "model_name = DecisionTreeClassifier(min_samples_split=20, random_state=0)\n",
    "parameter_dict = make_sweep_parameter_dt_dict()\n",
    "dtf = sweep_classifier_cross_val(train_feature=train_x, \n",
    "                                 train_label=train_y, \n",
    "                                 model_name=model_name, \n",
    "                                 parameter_dict=parameter_dict)\n",
    "print(dtf)"
   ]
  },
  {
   "cell_type": "code",
   "execution_count": 27,
   "metadata": {},
   "outputs": [
    {
     "name": "stdout",
     "output_type": "stream",
     "text": [
      "Confusion Matrix:\n",
      "[[785  17]\n",
      " [ 74  29]]\n",
      "Accuracy: 0.90\n",
      "Precision: 0.63\n",
      "Recall: 0.28\n",
      "F1: 0.39\n"
     ]
    }
   ],
   "source": [
    "predicted = prediction(dtf, test_x)\n",
    "\n",
    "cm, acc, pre, rec, f1 = calc_metrics(test_y, predicted)\n",
    "\n",
    "print('Confusion Matrix:')\n",
    "print(cm)\n",
    "print('Accuracy: {:.2f}'.format(acc))\n",
    "print('Precision: {:.2f}'.format(pre))\n",
    "print('Recall: {:.2f}'.format(rec))\n",
    "print('F1: {:.2f}'.format(f1))"
   ]
  },
  {
   "cell_type": "code",
   "execution_count": 30,
   "metadata": {},
   "outputs": [
    {
     "name": "stdout",
     "output_type": "stream",
     "text": [
      "Export the lr model to lr.pkl\n",
      "Export the svf model to sv.pkl\n",
      "Export the dtf model to dt.pkl\n",
      "Import the model from lr.pkl\n",
      "Import the model from sv.pkl\n",
      "Import the model from dt.pkl\n"
     ]
    }
   ],
   "source": [
    "# Serialize the model on disk in the special 'outputs' folder\n",
    "\n",
    "print (\"Export the lr model to lr.pkl\")\n",
    "f = open('./outputs/lr.pkl', 'wb')\n",
    "pickle.dump(lrf, f)\n",
    "f.close()\n",
    "\n",
    "print (\"Export the svf model to sv.pkl\")\n",
    "f = open('./outputs/sv.pkl', 'wb')\n",
    "pickle.dump(svf, f)\n",
    "f.close()\n",
    "\n",
    "print (\"Export the dtf model to dt.pkl\")\n",
    "f = open('./outputs/dt.pkl', 'wb')\n",
    "pickle.dump(dtf, f)\n",
    "f.close()\n",
    "\n",
    "# Load the model back from the 'outputs' folder into memory\n",
    "\n",
    "print(\"Import the model from lr.pkl\")\n",
    "f2 = open('./outputs/lr.pkl', 'rb')\n",
    "lrf2 = pickle.load(f2)\n",
    "\n",
    "print(\"Import the model from sv.pkl\")\n",
    "f2 = open('./outputs/sv.pkl', 'rb')\n",
    "svf2 = pickle.load(f2)\n",
    "\n",
    "print(\"Import the model from dt.pkl\")\n",
    "f2 = open('./outputs/dt.pkl', 'rb')\n",
    "dtf2 = pickle.load(f2)"
   ]
  },
  {
   "cell_type": "code",
   "execution_count": null,
   "metadata": {
    "collapsed": true
   },
   "outputs": [],
   "source": []
  }
 ],
 "metadata": {
  "anaconda-cloud": {},
  "kernelspec": {
   "display_name": "Python 3",
   "language": "python",
   "name": "python3"
  },
  "language_info": {
   "codemirror_mode": {
    "name": "ipython",
    "version": 3
   },
   "file_extension": ".py",
   "mimetype": "text/x-python",
   "name": "python",
   "nbconvert_exporter": "python",
   "pygments_lexer": "ipython3",
   "version": "3.5.2"
  }
 },
 "nbformat": 4,
 "nbformat_minor": 1
}
